{
 "cells": [
  {
   "cell_type": "code",
   "execution_count": 1,
   "id": "5e7f1610",
   "metadata": {},
   "outputs": [
    {
     "name": "stderr",
     "output_type": "stream",
     "text": [
      "/Users/dianacarolinabravo/.pyenv/versions/3.10.3/lib/python3.10/site-packages/requests/__init__.py:109: RequestsDependencyWarning: urllib3 (1.26.9) or chardet (5.0.0)/charset_normalizer (2.0.12) doesn't match a supported version!\n",
      "  warnings.warn(\n"
     ]
    }
   ],
   "source": [
    "# Importing all necesscary libraries\n",
    "import pandas as pd\n",
    "from bs4 import BeautifulSoup\n",
    "import requests\n",
    "import time\n",
    "from selenium import webdriver\n",
    "from selenium.webdriver.common.by import By\n",
    "from selenium.webdriver.support.ui import WebDriverWait\n",
    "from selenium.webdriver.support import expected_conditions as EC\n",
    "from selenium.webdriver.support.ui import Select\n",
    "from webdriver_manager.chrome import ChromeDriverManager"
   ]
  },
  {
   "cell_type": "code",
   "execution_count": 2,
   "id": "ea4c43a4",
   "metadata": {},
   "outputs": [
    {
     "name": "stdout",
     "output_type": "stream",
     "text": [
      "\n"
     ]
    },
    {
     "name": "stderr",
     "output_type": "stream",
     "text": [
      "/var/folders/p6/26htwz214kg98xqtwb2kn0qm0000gn/T/ipykernel_28071/3433913566.py:1: DeprecationWarning: executable_path has been deprecated, please pass in a Service object\n",
      "  driver = webdriver.Chrome(ChromeDriverManager().install())\n"
     ]
    }
   ],
   "source": [
    "driver = webdriver.Chrome(ChromeDriverManager().install())\n",
    "driver.get('https://search.hospitalpriceindex.com/hpi2/hospital/East%20Los%20Angeles%20Doctors%20Hospital/8429?page=1')"
   ]
  },
  {
   "cell_type": "code",
   "execution_count": 3,
   "id": "bbdeec42",
   "metadata": {},
   "outputs": [
    {
     "data": {
      "text/plain": [
       "287"
      ]
     },
     "execution_count": 3,
     "metadata": {},
     "output_type": "execute_result"
    }
   ],
   "source": [
    "num_list = list(range(1,288))\n",
    "url_list = []\n",
    "\n",
    "for each_number in num_list:\n",
    "    each_url = 'https://search.hospitalpriceindex.com/hpi2/hospital/East%20Los%20Angeles%20Doctors%20Hospital/8429?page=' + str(each_number)\n",
    "    url_list.append(each_url)\n",
    "    \n",
    "len(url_list)"
   ]
  },
  {
   "cell_type": "code",
   "execution_count": 4,
   "id": "6bef5b86",
   "metadata": {},
   "outputs": [
    {
     "data": {
      "text/plain": [
       "287"
      ]
     },
     "execution_count": 4,
     "metadata": {},
     "output_type": "execute_result"
    }
   ],
   "source": [
    "# list of URLS\n",
    "\n",
    "# make a dataframe list\n",
    "\n",
    "dataframes=[]\n",
    "\n",
    "for each_url in url_list:\n",
    "    driver.get(each_url)\n",
    "    time.sleep(1)\n",
    "    new_df = pd.read_html(driver.page_source)[0]\n",
    "    dataframes.append(new_df)\n",
    "len(dataframes)    \n",
    "#dataframes[0]"
   ]
  },
  {
   "cell_type": "code",
   "execution_count": 5,
   "id": "bf51435d",
   "metadata": {},
   "outputs": [
    {
     "data": {
      "text/plain": [
       "14288"
      ]
     },
     "execution_count": 5,
     "metadata": {},
     "output_type": "execute_result"
    }
   ],
   "source": [
    "df = pd.concat(dataframes)\n",
    "len(df)"
   ]
  },
  {
   "cell_type": "code",
   "execution_count": 6,
   "id": "a1a7ae28",
   "metadata": {},
   "outputs": [],
   "source": [
    "df.to_csv(\"east_la_doctors_hospital_chargemaster.csv\", index=False)"
   ]
  },
  {
   "cell_type": "code",
   "execution_count": null,
   "id": "ecb5a3de",
   "metadata": {},
   "outputs": [],
   "source": []
  }
 ],
 "metadata": {
  "kernelspec": {
   "display_name": "Python 3 (ipykernel)",
   "language": "python",
   "name": "python3"
  },
  "language_info": {
   "codemirror_mode": {
    "name": "ipython",
    "version": 3
   },
   "file_extension": ".py",
   "mimetype": "text/x-python",
   "name": "python",
   "nbconvert_exporter": "python",
   "pygments_lexer": "ipython3",
   "version": "3.10.3"
  }
 },
 "nbformat": 4,
 "nbformat_minor": 5
}
